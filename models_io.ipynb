{
  "nbformat": 4,
  "nbformat_minor": 0,
  "metadata": {
    "colab": {
      "name": "models_io.ipynb",
      "version": "0.3.2",
      "provenance": [],
      "collapsed_sections": [],
      "include_colab_link": true
    },
    "kernelspec": {
      "name": "python3",
      "display_name": "Python 3"
    }
  },
  "cells": [
    {
      "cell_type": "markdown",
      "metadata": {
        "id": "view-in-github",
        "colab_type": "text"
      },
      "source": [
        "<a href=\"https://colab.research.google.com/github/hossein20s/notebook_snippets/blob/master/models_io.ipynb\" target=\"_parent\"><img src=\"https://colab.research.google.com/assets/colab-badge.svg\" alt=\"Open In Colab\"/></a>"
      ]
    },
    {
      "cell_type": "code",
      "metadata": {
        "id": "9qeW-q7W-AhF",
        "colab_type": "code",
        "colab": {}
      },
      "source": [
        "print('Version 1.2')\n",
        "from google.colab import drive\n",
        "drive.mount('/gdrive')\n",
        "!ln -s \"/gdrive/My Drive/models\" models"
      ],
      "execution_count": 0,
      "outputs": []
    },
    {
      "cell_type": "code",
      "metadata": {
        "id": "EPW0XkRmAggo",
        "colab_type": "code",
        "colab": {}
      },
      "source": [
        "from keras.models import model_from_json\n",
        "\n",
        "MODEL_DIR = 'models/'\n",
        "\n",
        "\n",
        "def load_model_json(model_name):\n",
        "  return load_model(model_name, '.json')\n",
        "def load_model_yaml(model_name):\n",
        "  return load_model(model_name, '.yaml')\n",
        "def load_model(model_name, extension):\n",
        "  # load json and create model\n",
        "  file_name = MODEL_DIR + 'model.' + model_name + extension\n",
        "  file = open(file_name, 'r')\n",
        "  loaded_model = file.read()\n",
        "  file.close()\n",
        "  print('load model from file ' + file_name)\n",
        "  if(extension == '.json'):\n",
        "    return model_from_json(loaded_model)\n",
        "  if(extension == '.yaml'):\n",
        "    return model_from_yaml(loaded_model)\n",
        "  return 'no valid extension'\n",
        "\n",
        "def save_model_json(model, model_name):\n",
        "  save_model(model, model_name, '.json')\n",
        "def save_model_yaml(model, model_name):\n",
        "  save_model(model, model_name, '.yaml')\n",
        "def save_model(model, model_name, extension):\n",
        "  # serialize model to JSON\n",
        "  file_name = MODEL_DIR + 'model.' + model_name + extension\n",
        "  if(extension == '.json'):\n",
        "    model_loaded = model.to_json()\n",
        "  if(extension == '.yaml'):\n",
        "    model_loaded = model.to_yaml()\n",
        "  with open(file_name, \"w\") as file:\n",
        "      file.write(model_loaded)\n",
        "  save_model_weights(model, model_name)\n",
        "def save_model_weights(model, model_name):\n",
        "  # serialize weights to HDF5\n",
        "  file_name = MODEL_DIR + 'model.' + model_name + '.h5'\n",
        "  model.save_weights(file_name)\n",
        "  print(\"Model saved in folder \" + MODEL_DIR)\n",
        "  \n",
        "def load_model_weights(model, model_name):\n",
        "  # load serialize weights from HDF5\n",
        "  file_name = MODEL_DIR + 'model.' + model_name + '.h5'\n",
        "  model.load_weights(file_name)\n",
        "  \n",
        "print('save and load models from yaml and json files defined.\\\n",
        " Everything stored in folder ' + MODEL_DIR)\n"
      ],
      "execution_count": 0,
      "outputs": []
    },
    {
      "cell_type": "markdown",
      "metadata": {
        "id": "r7MmJM70MVaE",
        "colab_type": "text"
      },
      "source": [
        "# Defined Functions\n",
        "\n",
        "\n",
        "```\n",
        "load_model_json(model_name):\n",
        "\n",
        "load_model_yaml(model_name):\n",
        "\n",
        "load_model(model_name, extension):\n",
        "\n",
        "save_model_json(model, model_name):\n",
        "\n",
        "save_model(model, model_name, extension):\n",
        "  \n",
        "save_model_weights(model, model_name):\n",
        "\n",
        "load_model_weights(model, model_name):\n",
        "\n",
        "```\n",
        "\n"
      ]
    }
  ]
}