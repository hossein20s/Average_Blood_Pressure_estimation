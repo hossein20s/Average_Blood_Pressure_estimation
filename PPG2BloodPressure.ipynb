{
  "nbformat": 4,
  "nbformat_minor": 0,
  "metadata": {
    "colab": {
      "name": "PPG2BloodPressure.ipynb",
      "version": "0.3.2",
      "provenance": [],
      "collapsed_sections": [],
      "include_colab_link": true
    },
    "kernelspec": {
      "name": "python3",
      "display_name": "Python 3"
    }
  },
  "cells": [
    {
      "cell_type": "markdown",
      "metadata": {
        "id": "view-in-github",
        "colab_type": "text"
      },
      "source": [
        "<a href=\"https://colab.research.google.com/github/hossein20s/PPG2bloodPressure/blob/master/PPG2BloodPressure.ipynb\" target=\"_parent\"><img src=\"https://colab.research.google.com/assets/colab-badge.svg\" alt=\"Open In Colab\"/></a>"
      ]
    },
    {
      "cell_type": "code",
      "metadata": {
        "id": "qYCZ1MW_PFxs",
        "colab_type": "code",
        "outputId": "d7c1c533-5803-447e-9def-bbd5e504ebaf",
        "colab": {
          "base_uri": "https://localhost:8080/",
          "height": 292
        }
      },
      "source": [
        "from google.colab import drive\n",
        "drive.mount('/content/gdrive')\n",
        "REPO_NAME = 'PPG2bloodPressure'\n",
        "%run gdrive/My\\ Drive/lib/connect.ipynb\n"
      ],
      "execution_count": 5,
      "outputs": [
        {
          "output_type": "stream",
          "text": [
            "Go to this URL in a browser: https://accounts.google.com/o/oauth2/auth?client_id=947318989803-6bn6qk8qdgf4n4g3pfee6491hc0brc4i.apps.googleusercontent.com&redirect_uri=urn%3Aietf%3Awg%3Aoauth%3A2.0%3Aoob&scope=email%20https%3A%2F%2Fwww.googleapis.com%2Fauth%2Fdocs.test%20https%3A%2F%2Fwww.googleapis.com%2Fauth%2Fdrive%20https%3A%2F%2Fwww.googleapis.com%2Fauth%2Fdrive.photos.readonly%20https%3A%2F%2Fwww.googleapis.com%2Fauth%2Fpeopleapi.readonly&response_type=code\n",
            "\n",
            "Enter your authorization code:\n",
            "··········\n",
            "Mounted at /content/gdrive\n",
            "Drive already mounted at /content/gdrive; to attempt to forcibly remount, call drive.mount(\"/content/gdrive\", force_remount=True).\n",
            "Vesion:1.4\n",
            "mkdir: cannot create directory ‘/content/gdrive/My Drive/src/’: File exists\n",
            "Cloning into 'PPG2bloodPressure'...\n",
            "remote: Enumerating objects: 157, done.\u001b[K\n",
            "remote: Counting objects: 100% (157/157), done.\u001b[K\n",
            "remote: Compressing objects: 100% (124/124), done.\u001b[K\n",
            "remote: Total 249 (delta 68), reused 72 (delta 25), pack-reused 92\u001b[K\n",
            "Receiving objects: 100% (249/249), 142.83 MiB | 17.32 MiB/s, done.\n",
            "Resolving deltas: 100% (112/112), done.\n"
          ],
          "name": "stdout"
        }
      ]
    },
    {
      "cell_type": "code",
      "metadata": {
        "id": "-ZVRHT4eTlmJ",
        "colab_type": "code",
        "outputId": "a7192663-b78b-4bf0-fa3c-c6df466313de",
        "colab": {
          "base_uri": "https://localhost:8080/",
          "height": 68
        }
      },
      "source": [
        "BUCKET_DIR = 'gs://medicalblockchain_dev'\n",
        "!gsutil cp $BUCKET_DIR/data/BP_PPG_ECG/Part_1.mat /tmp/data1.mat"
      ],
      "execution_count": 6,
      "outputs": [
        {
          "output_type": "stream",
          "text": [
            "Copying gs://medicalblockchain_dev/data/BP_PPG_ECG/Part_1.mat...\n",
            "/ [1 files][811.9 MiB/811.9 MiB]                                                \n",
            "Operation completed over 1 objects/811.9 MiB.                                    \n"
          ],
          "name": "stdout"
        }
      ]
    },
    {
      "cell_type": "markdown",
      "metadata": {
        "id": "SaLHBgqTBTkS",
        "colab_type": "text"
      },
      "source": [
        "Some data can also be found here. No Idea the realtionship\n",
        "https://drive.google.com/drive/u/0/mobile/folders/154j5jxudI3PAvPDjPiscs-P3Q5ZRpq5t?usp=drive_open\n",
        "\n",
        "Maybe figure it out from \n",
        "https://sites.google.com/view/cufflessbp/dataset?authuser=0\n"
      ]
    },
    {
      "cell_type": "code",
      "metadata": {
        "id": "bX82z-32aXPZ",
        "colab_type": "code",
        "outputId": "6f8e0f46-6159-485d-ccad-5a8774cb79ad",
        "colab": {
          "base_uri": "https://localhost:8080/",
          "height": 102
        }
      },
      "source": [
        "import h5py\n",
        "import numpy as np\n",
        "\n",
        "with h5py.File('/tmp/data1.mat', 'r') as f:\n",
        "  print(list(f.keys()))\n",
        "  ds = f['Part_1']\n",
        "  print(ds.shape)\n",
        "  x = ds[0][0]\n",
        "  #print(x.dtype)\n",
        "  print(f[x].shape)\n",
        "  print(f[x].dtype)\n",
        "  ppg_abp_ecg = f[x][:]\n",
        "  print(ppg_abp_ecg.shape)\n",
        "  \n"
      ],
      "execution_count": 8,
      "outputs": [
        {
          "output_type": "stream",
          "text": [
            "['#refs#', 'Part_1']\n",
            "(3000, 1)\n",
            "(61000, 3)\n",
            "float64\n",
            "(61000, 3)\n"
          ],
          "name": "stdout"
        }
      ]
    },
    {
      "cell_type": "code",
      "metadata": {
        "id": "wkYc0HXlOK9C",
        "colab_type": "code",
        "colab": {}
      },
      "source": [
        "ppg = ppg_abp_ecg[:,0]\n",
        "abp = ppg_abp_ecg[:,1]\n",
        "ecg = ppg_abp_ecg[:,2]\n",
        "  "
      ],
      "execution_count": 0,
      "outputs": []
    },
    {
      "cell_type": "code",
      "metadata": {
        "id": "OkLyMfqV6PaS",
        "colab_type": "code",
        "colab": {}
      },
      "source": [
        "  print(ppg_abp_ecg)\n",
        "  \n",
        "  import numpy as np\n",
        "  n = 300\n",
        "  x = np.arange(n)\n",
        "  \n",
        "  import matplotlib.pyplot as plt\n",
        "  plt.plot(x, ppg[i:i+n], 'y')\n",
        "  plt.show()\n",
        "  plt.plot(x, abp[i:i+n], 'b')\n",
        "  plt.show()\n",
        "  plt.plot(x, ecg[i:i+n], 'g')\n",
        "  plt.show()\n",
        "\n",
        "  n = 300\n",
        "  i = 0\n",
        "  plt.plot(ppg[i:i+n], abp[i:i+n], 'y')\n",
        "  plt.show()\n",
        "  plt.plot(ecg[i:i+n], abp[i:i+n], 'g')\n",
        "  plt.show()\n",
        "  plt.plot(ecg[i:i+n], ppg[i:i+n], 'o')\n",
        "  plt.show()\n",
        "\n",
        "  n = 1000\n",
        "  plt.plot(ppg[i:i+n], abp[i:i+n], 'y')\n",
        "  plt.show()\n",
        "  n = 4000\n",
        "  plt.plot(ppg[i:i+n], abp[i:i+n], 'y')\n",
        "  plt.show()\n",
        "  n = 20000\n",
        "  plt.plot(ppg[i:i+n], abp[i:i+n], 'y')\n",
        "  n = 300\n",
        "  i = 1000\n",
        "  plt.plot(ppg[i:i+n], abp[i:i+n], 'y')\n",
        "  plt.show()\n",
        "  i = 10000\n",
        "  plt.plot(ppg[i:i+n], abp[i:i+n], 'y')\n",
        "  plt.show()\n",
        "  plt.plot(ecg[i:i+n], abp[i:i+n], 'g')\n",
        "  plt.show()\n",
        "  i = 20000\n",
        "  plt.plot(ppg[i:i+n], abp[i:i+n], 'y')\n",
        "  plt.show()\n",
        "\n",
        "\n",
        "\n",
        "# red dashes, blue squares and green triangles\n",
        "#plt.plot(t, t, 'r--', t, t**2, 'bs', t, t**3, 'g^')\n"
      ],
      "execution_count": 0,
      "outputs": []
    },
    {
      "cell_type": "markdown",
      "metadata": {
        "id": "kYojuSSaKjpR",
        "colab_type": "text"
      },
      "source": [
        "# Prediction\n",
        "\n",
        "lets predict 1000 timeslice from the first 6000 one.\n",
        "First we create a dataframe from the first 7000 "
      ]
    },
    {
      "cell_type": "code",
      "metadata": {
        "id": "jIS7v6BNKhsN",
        "colab_type": "code",
        "colab": {}
      },
      "source": [
        "import numpy as np\n",
        "import pandas as pd\n",
        "n = 7000\n",
        "index = np.arange(n)\n",
        "columns = ['PPG', 'ABP']\n",
        "df = pd.DataFrame(index=index, columns=columns)\n",
        "\n",
        "df['PPG'] = ppg[0:n]\n",
        "df['ABP'] = abp[0:n]\n"
      ],
      "execution_count": 0,
      "outputs": []
    },
    {
      "cell_type": "code",
      "metadata": {
        "id": "2cK8W2WKOpip",
        "colab_type": "code",
        "colab": {}
      },
      "source": [
        "train = df.sample(frac=0.8, random_state=1)\n",
        "test = df.drop(train.index)"
      ],
      "execution_count": 0,
      "outputs": []
    },
    {
      "cell_type": "markdown",
      "metadata": {
        "id": "7x5Ptu44RhZJ",
        "colab_type": "text"
      },
      "source": [
        ""
      ]
    },
    {
      "cell_type": "code",
      "metadata": {
        "id": "msKRcFV7PQJc",
        "colab_type": "code",
        "colab": {
          "base_uri": "https://localhost:8080/",
          "height": 386
        },
        "outputId": "0902ac85-d446-4c81-f1a5-56d87e3c646a"
      },
      "source": [
        "import seaborn as  sns\n",
        "sns.pairplot(train[['PPG', 'ABP']], diag_kind='kde')"
      ],
      "execution_count": 22,
      "outputs": [
        {
          "output_type": "execute_result",
          "data": {
            "text/plain": [
              "<seaborn.axisgrid.PairGrid at 0x7f09b5b1fbe0>"
            ]
          },
          "metadata": {
            "tags": []
          },
          "execution_count": 22
        },
        {
          "output_type": "display_data",
          "data": {
            "image/png": "[encoded data removed]",
            "text/plain": [
              "<Figure size 360x360 with 6 Axes>"
            ]
          },
          "metadata": {
            "tags": []
          }
        }
      ]
    },
    {
      "cell_type": "code",
      "metadata": {
        "id": "jiIykmp-P6U-",
        "colab_type": "code",
        "colab": {}
      },
      "source": [
        ""
      ],
      "execution_count": 0,
      "outputs": []
    },
    {
      "cell_type": "code",
      "metadata": {
        "id": "nYghKL4cRXH-",
        "colab_type": "code",
        "colab": {
          "base_uri": "https://localhost:8080/",
          "height": 204
        },
        "outputId": "ddbe2813-65ba-4155-dec4-102024bb7a21"
      },
      "source": [
        "train_dataset = train.copy()\n",
        "test_dataset = test.copy()\n",
        "print(train_dataset.describe())\n",
        "\n",
        "train_stats = train.describe()\n",
        "train_stats.pop(\"ABP\")\n",
        "train_stats = train_stats.transpose()\n",
        "print(train_stats)\n",
        "\n",
        "train_labels = train_dataset.pop('ABP')\n",
        "test_labels = test_dataset.pop('ABP')\n"
      ],
      "execution_count": 31,
      "outputs": [
        {
          "output_type": "stream",
          "text": [
            "               PPG          ABP\n",
            "count  5600.000000  5600.000000\n",
            "mean      1.840672    90.512198\n",
            "std       0.634207    19.409505\n",
            "min       0.013685    64.913815\n",
            "25%       1.302786    74.780324\n",
            "50%       1.646139    81.716186\n",
            "75%       2.433040   108.629288\n",
            "max       3.165200   134.565507\n",
            "      count      mean       std       min       25%       50%      75%     max\n",
            "PPG  5600.0  1.840672  0.634207  0.013685  1.302786  1.646139  2.43304  3.1652\n"
          ],
          "name": "stdout"
        }
      ]
    },
    {
      "cell_type": "markdown",
      "metadata": {
        "id": "9fWYxoADQO1X",
        "colab_type": "text"
      },
      "source": [
        "Normalize the data"
      ]
    },
    {
      "cell_type": "code",
      "metadata": {
        "id": "8DTCZNotQQxs",
        "colab_type": "code",
        "colab": {}
      },
      "source": [
        "def norm(x):\n",
        "  return (x - train_stats['mean']) / train_stats['std']\n",
        "normed_train_data = norm(train_dataset)\n",
        "normed_test_data = norm(test_dataset)"
      ],
      "execution_count": 0,
      "outputs": []
    },
    {
      "cell_type": "markdown",
      "metadata": {
        "id": "KdO944EMTv8B",
        "colab_type": "text"
      },
      "source": [
        "# Building Densly Connected Model"
      ]
    },
    {
      "cell_type": "code",
      "metadata": {
        "id": "rCnRWAocUmKc",
        "colab_type": "code",
        "colab": {
          "base_uri": "https://localhost:8080/",
          "height": 34
        },
        "outputId": "11845372-9246-4d26-e9dc-e8ad81b394d8"
      },
      "source": [
        "import tensorflow as tf\n",
        "from tensorflow import keras\n",
        "from tensorflow.keras import layers\n",
        "\n",
        "print(tf.__version__)"
      ],
      "execution_count": 37,
      "outputs": [
        {
          "output_type": "stream",
          "text": [
            "1.13.1\n"
          ],
          "name": "stdout"
        }
      ]
    },
    {
      "cell_type": "code",
      "metadata": {
        "id": "zYsmgwrkT3LY",
        "colab_type": "code",
        "colab": {}
      },
      "source": [
        "def build_2DenslyConnectedModel():\n",
        "  model = keras.Sequential([\n",
        "    layers.Dense(64, activation=tf.nn.relu, input_shape=[len(train_dataset.keys())]),\n",
        "    layers.Dense(64, activation=tf.nn.relu),\n",
        "    layers.Dense(1)\n",
        "  ])\n",
        "\n",
        "  optimizer = tf.keras.optimizers.RMSprop(0.001)\n",
        "\n",
        "  model.compile(loss='mean_squared_error',\n",
        "                optimizer=optimizer,\n",
        "                metrics=['mean_absolute_error', 'mean_squared_error'])\n",
        "  return model"
      ],
      "execution_count": 0,
      "outputs": []
    },
    {
      "cell_type": "code",
      "metadata": {
        "id": "1aKxsiggUGPF",
        "colab_type": "code",
        "colab": {
          "base_uri": "https://localhost:8080/",
          "height": 360
        },
        "outputId": "d78e8716-8a35-4cfc-8309-179c5e14d04a"
      },
      "source": [
        "model = build_2DenslyConnectedModel()\n",
        "model.summary()"
      ],
      "execution_count": 39,
      "outputs": [
        {
          "output_type": "stream",
          "text": [
            "WARNING:tensorflow:From /usr/local/lib/python3.6/dist-packages/tensorflow/python/ops/resource_variable_ops.py:435: colocate_with (from tensorflow.python.framework.ops) is deprecated and will be removed in a future version.\n",
            "Instructions for updating:\n",
            "Colocations handled automatically by placer.\n",
            "WARNING:tensorflow:From /usr/local/lib/python3.6/dist-packages/tensorflow/python/keras/utils/losses_utils.py:170: to_float (from tensorflow.python.ops.math_ops) is deprecated and will be removed in a future version.\n",
            "Instructions for updating:\n",
            "Use tf.cast instead.\n",
            "_________________________________________________________________\n",
            "Layer (type)                 Output Shape              Param #   \n",
            "=================================================================\n",
            "dense (Dense)                (None, 64)                128       \n",
            "_________________________________________________________________\n",
            "dense_1 (Dense)              (None, 64)                4160      \n",
            "_________________________________________________________________\n",
            "dense_2 (Dense)              (None, 1)                 65        \n",
            "=================================================================\n",
            "Total params: 4,353\n",
            "Trainable params: 4,353\n",
            "Non-trainable params: 0\n",
            "_________________________________________________________________\n"
          ],
          "name": "stdout"
        }
      ]
    },
    {
      "cell_type": "markdown",
      "metadata": {
        "id": "pMkxBzf2UPjg",
        "colab_type": "text"
      },
      "source": [
        "Check to be sure the formats are correct"
      ]
    },
    {
      "cell_type": "code",
      "metadata": {
        "id": "xemUGv_AVRMu",
        "colab_type": "code",
        "colab": {
          "base_uri": "https://localhost:8080/",
          "height": 187
        },
        "outputId": "96de042e-3e93-4298-c223-0a3d507343ba"
      },
      "source": [
        "example_batch = normed_train_data[:10]\n",
        "example_result = model.predict(example_batch)\n",
        "example_result"
      ],
      "execution_count": 43,
      "outputs": [
        {
          "output_type": "execute_result",
          "data": {
            "text/plain": [
              "array([[-0.12626208],\n",
              "       [ 0.0135612 ],\n",
              "       [-0.18720323],\n",
              "       [-0.00179082],\n",
              "       [ 0.00589787],\n",
              "       [ 0.01394966],\n",
              "       [ 0.01038286],\n",
              "       [-0.07388456],\n",
              "       [ 0.01899972],\n",
              "       [ 0.05000627]], dtype=float32)"
            ]
          },
          "metadata": {
            "tags": []
          },
          "execution_count": 43
        }
      ]
    },
    {
      "cell_type": "code",
      "metadata": {
        "id": "b3iCe126WJ8A",
        "colab_type": "code",
        "colab": {}
      },
      "source": [
        "# Display training progress by printing a single dot for each completed epoch\n",
        "class PrintDot(keras.callbacks.Callback):\n",
        "  def on_epoch_end(self, epoch, logs):\n",
        "    if epoch % 100 == 0: print('')\n",
        "    print('.', end='')"
      ],
      "execution_count": 0,
      "outputs": []
    },
    {
      "cell_type": "code",
      "metadata": {
        "id": "eDsFGpV3WLrD",
        "colab_type": "code",
        "colab": {
          "base_uri": "https://localhost:8080/",
          "height": 374
        },
        "outputId": "38d2cde6-b82c-4b6f-9929-68a6a5d2a0ec"
      },
      "source": [
        "EPOCHS = 2000\n",
        "\n",
        "history = model.fit(\n",
        "  normed_train_data, train_labels,\n",
        "  epochs=EPOCHS, validation_split = 0.2, verbose=0,\n",
        "  callbacks=[PrintDot()])"
      ],
      "execution_count": 58,
      "outputs": [
        {
          "output_type": "stream",
          "text": [
            "\n",
            "....................................................................................................\n",
            "....................................................................................................\n",
            "....................................................................................................\n",
            "....................................................................................................\n",
            "....................................................................................................\n",
            "....................................................................................................\n",
            "....................................................................................................\n",
            "....................................................................................................\n",
            "....................................................................................................\n",
            "....................................................................................................\n",
            "....................................................................................................\n",
            "....................................................................................................\n",
            "....................................................................................................\n",
            "....................................................................................................\n",
            "....................................................................................................\n",
            "....................................................................................................\n",
            "....................................................................................................\n",
            "....................................................................................................\n",
            "....................................................................................................\n",
            "...................................................................................................."
          ],
          "name": "stdout"
        }
      ]
    },
    {
      "cell_type": "code",
      "metadata": {
        "id": "2hBpol60Wehi",
        "colab_type": "code",
        "colab": {
          "base_uri": "https://localhost:8080/",
          "height": 224
        },
        "outputId": "872abe68-5933-4703-dd8a-800d4867fc83"
      },
      "source": [
        "hist = pd.DataFrame(history.history)\n",
        "hist['epoch'] = history.epoch\n",
        "hist.tail()"
      ],
      "execution_count": 59,
      "outputs": [
        {
          "output_type": "execute_result",
          "data": {
            "text/html": [
              "<div>\n",
              "<style scoped>\n",
              "    .dataframe tbody tr th:only-of-type {\n",
              "        vertical-align: middle;\n",
              "    }\n",
              "\n",
              "    .dataframe tbody tr th {\n",
              "        vertical-align: top;\n",
              "    }\n",
              "\n",
              "    .dataframe thead th {\n",
              "        text-align: right;\n",
              "    }\n",
              "</style>\n",
              "<table border=\"1\" class=\"dataframe\">\n",
              "  <thead>\n",
              "    <tr style=\"text-align: right;\">\n",
              "      <th></th>\n",
              "      <th>loss</th>\n",
              "      <th>mean_absolute_error</th>\n",
              "      <th>mean_squared_error</th>\n",
              "      <th>val_loss</th>\n",
              "      <th>val_mean_absolute_error</th>\n",
              "      <th>val_mean_squared_error</th>\n",
              "      <th>epoch</th>\n",
              "    </tr>\n",
              "  </thead>\n",
              "  <tbody>\n",
              "    <tr>\n",
              "      <th>1995</th>\n",
              "      <td>133.821577</td>\n",
              "      <td>8.016082</td>\n",
              "      <td>133.821548</td>\n",
              "      <td>126.508150</td>\n",
              "      <td>8.071599</td>\n",
              "      <td>126.508163</td>\n",
              "      <td>1995</td>\n",
              "    </tr>\n",
              "    <tr>\n",
              "      <th>1996</th>\n",
              "      <td>133.572779</td>\n",
              "      <td>8.039938</td>\n",
              "      <td>133.572769</td>\n",
              "      <td>126.709385</td>\n",
              "      <td>7.998335</td>\n",
              "      <td>126.709373</td>\n",
              "      <td>1996</td>\n",
              "    </tr>\n",
              "    <tr>\n",
              "      <th>1997</th>\n",
              "      <td>134.019572</td>\n",
              "      <td>8.023061</td>\n",
              "      <td>134.019608</td>\n",
              "      <td>124.111017</td>\n",
              "      <td>7.793882</td>\n",
              "      <td>124.111023</td>\n",
              "      <td>1997</td>\n",
              "    </tr>\n",
              "    <tr>\n",
              "      <th>1998</th>\n",
              "      <td>133.904492</td>\n",
              "      <td>7.988784</td>\n",
              "      <td>133.904510</td>\n",
              "      <td>127.082059</td>\n",
              "      <td>8.002699</td>\n",
              "      <td>127.082047</td>\n",
              "      <td>1998</td>\n",
              "    </tr>\n",
              "    <tr>\n",
              "      <th>1999</th>\n",
              "      <td>133.667704</td>\n",
              "      <td>7.990962</td>\n",
              "      <td>133.667694</td>\n",
              "      <td>124.426003</td>\n",
              "      <td>7.789375</td>\n",
              "      <td>124.426003</td>\n",
              "      <td>1999</td>\n",
              "    </tr>\n",
              "  </tbody>\n",
              "</table>\n",
              "</div>"
            ],
            "text/plain": [
              "            loss  mean_absolute_error  ...  val_mean_squared_error  epoch\n",
              "1995  133.821577             8.016082  ...              126.508163   1995\n",
              "1996  133.572779             8.039938  ...              126.709373   1996\n",
              "1997  134.019572             8.023061  ...              124.111023   1997\n",
              "1998  133.904492             7.988784  ...              127.082047   1998\n",
              "1999  133.667704             7.990962  ...              124.426003   1999\n",
              "\n",
              "[5 rows x 7 columns]"
            ]
          },
          "metadata": {
            "tags": []
          },
          "execution_count": 59
        }
      ]
    },
    {
      "cell_type": "code",
      "metadata": {
        "id": "HObacq2OXb4I",
        "colab_type": "code",
        "colab": {}
      },
      "source": [
        "import matplotlib.pyplot as plt\n",
        "\n",
        "def plot_history(history):\n",
        "  hist = pd.DataFrame(history.history)\n",
        "  hist['epoch'] = history.epoch\n",
        "  \n",
        "  plt.figure()\n",
        "  plt.xlabel('Epoch')\n",
        "  plt.ylabel('Mean Abs Error [MPG]')\n",
        "  plt.plot(hist['epoch'], hist['mean_absolute_error'],\n",
        "           label='Train Error')\n",
        "  plt.plot(hist['epoch'], hist['val_mean_absolute_error'],\n",
        "           label = 'Val Error')\n",
        "  plt.ylim([0,5])\n",
        "  plt.legend()\n",
        "  \n",
        "  plt.figure()\n",
        "  plt.xlabel('Epoch')\n",
        "  plt.ylabel('Mean Square Error [$MPG^2$]')\n",
        "  plt.plot(hist['epoch'], hist['mean_squared_error'],\n",
        "           label='Train Error')\n",
        "  plt.plot(hist['epoch'], hist['val_mean_squared_error'],\n",
        "           label = 'Val Error')\n",
        "  plt.ylim([0,20])\n",
        "  plt.legend()\n",
        "  plt.show()"
      ],
      "execution_count": 0,
      "outputs": []
    },
    {
      "cell_type": "code",
      "metadata": {
        "id": "M9PM1apJZye0",
        "colab_type": "code",
        "colab": {
          "base_uri": "https://localhost:8080/",
          "height": 549
        },
        "outputId": "9207473c-30dd-4ce9-a0f0-5d93f8024507"
      },
      "source": [
        "plot_history(history)"
      ],
      "execution_count": 60,
      "outputs": [
        {
          "output_type": "display_data",
          "data": {
            "image/png": "[encoded data removed]",
            "text/plain": [
              "<Figure size 432x288 with 1 Axes>"
            ]
          },
          "metadata": {
            "tags": []
          }
        },
        {
          "output_type": "display_data",
          "data": {
            "image/png": "[encoded data removed]",
            "text/plain": [
              "<Figure size 432x288 with 1 Axes>"
            ]
          },
          "metadata": {
            "tags": []
          }
        }
      ]
    },
    {
      "cell_type": "code",
      "metadata": {
        "id": "UMoyWcqqa28o",
        "colab_type": "code",
        "colab": {
          "base_uri": "https://localhost:8080/",
          "height": 34
        },
        "outputId": "4b7f26a5-fd49-4f89-fc7b-d97006530ae4"
      },
      "source": [
        "loss, mae, mse = model.evaluate(normed_test_data, test_labels, verbose=0)\n",
        "\n",
        "print(\"Testing set Mean Abs Error: {:5.2f} MPG\".format(mae))"
      ],
      "execution_count": 61,
      "outputs": [
        {
          "output_type": "stream",
          "text": [
            "Testing set Mean Abs Error:  8.18 MPG\n"
          ],
          "name": "stdout"
        }
      ]
    },
    {
      "cell_type": "markdown",
      "metadata": {
        "id": "R06hdsa2bBCw",
        "colab_type": "text"
      },
      "source": [
        "# Finally Prediction"
      ]
    },
    {
      "cell_type": "code",
      "metadata": {
        "id": "tee3hCc1bGbR",
        "colab_type": "code",
        "colab": {
          "base_uri": "https://localhost:8080/",
          "height": 283
        },
        "outputId": "ba1284dc-421b-4946-bc94-53624e006b62"
      },
      "source": [
        "test_predictions = model.predict(normed_test_data).flatten()\n",
        "\n",
        "plt.scatter(test_labels, test_predictions)\n",
        "plt.xlabel('True Values [MPG]')\n",
        "plt.ylabel('Predictions [MPG]')\n",
        "plt.axis('equal')\n",
        "plt.axis('square')\n",
        "plt.xlim([0,plt.xlim()[1]])\n",
        "plt.ylim([0,plt.ylim()[1]])\n",
        "_ = plt.plot([-100, 100], [-100, 100])"
      ],
      "execution_count": 62,
      "outputs": [
        {
          "output_type": "display_data",
          "data": {
            "image/png": "[encoded data removed]",
            "text/plain": [
              "<Figure size 432x288 with 1 Axes>"
            ]
          },
          "metadata": {
            "tags": []
          }
        }
      ]
    },
    {
      "cell_type": "code",
      "metadata": {
        "id": "YnMsfRkNbMNi",
        "colab_type": "code",
        "colab": {
          "base_uri": "https://localhost:8080/",
          "height": 283
        },
        "outputId": "db187904-e873-4e0b-a0f7-b51ca8bd8916"
      },
      "source": [
        "error = test_predictions - test_labels\n",
        "plt.hist(error, bins = 25)\n",
        "plt.xlabel(\"Prediction Error [MPG]\")\n",
        "_ = plt.ylabel(\"Count\")"
      ],
      "execution_count": 63,
      "outputs": [
        {
          "output_type": "display_data",
          "data": {
            "image/png": "[encoded data removed]",
            "text/plain": [
              "<Figure size 432x288 with 1 Axes>"
            ]
          },
          "metadata": {
            "tags": []
          }
        }
      ]
    },
    {
      "cell_type": "code",
      "metadata": {
        "id": "7tpJb5rfcgnv",
        "colab_type": "code",
        "colab": {}
      },
      "source": [
        ""
      ],
      "execution_count": 0,
      "outputs": []
    }
  ]
}