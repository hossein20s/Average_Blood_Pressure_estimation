{
  "nbformat": 4,
  "nbformat_minor": 0,
  "metadata": {
    "colab": {
      "name": "QueelslandData.ipynb",
      "version": "0.3.2",
      "provenance": [],
      "include_colab_link": true
    },
    "kernelspec": {
      "name": "python3",
      "display_name": "Python 3"
    }
  },
  "cells": [
    {
      "cell_type": "markdown",
      "metadata": {
        "id": "view-in-github",
        "colab_type": "text"
      },
      "source": [
        "<a href=\"https://colab.research.google.com/github/hossein20s/Average_Blood_Pressure_estimation/blob/master/QueelslandData.ipynb\" target=\"_parent\"><img src=\"https://colab.research.google.com/assets/colab-badge.svg\" alt=\"Open In Colab\"/></a>"
      ]
    },
    {
      "cell_type": "code",
      "metadata": {
        "id": "anxEfzgIQ8vQ",
        "colab_type": "code",
        "colab": {}
      },
      "source": [
        "window_size = 80\n",
        "batch_size = 64\n",
        "epochs = 100\n",
        "\n",
        "DATA_FILE = 'data/case02.csv'\n",
        "columns = [\"NBP (Mean)\", \"Minute Volume\"]"
      ],
      "execution_count": 0,
      "outputs": []
    },
    {
      "cell_type": "code",
      "metadata": {
        "id": "Bd0jJ5HjRVyO",
        "colab_type": "code",
        "colab": {}
      },
      "source": [
        "\n",
        "!wget -O $DATA_FILE http://storage.googleapis.com/medicalblockchain_dev/data/UniversityQueenslandVitalSignals/case02/uq_vsd_case02_trenddata.csv"
      ],
      "execution_count": 0,
      "outputs": []
    },
    {
      "cell_type": "markdown",
      "metadata": {
        "id": "GRqkJfjGWM0U",
        "colab_type": "text"
      },
      "source": [
        "Injecting this code\n",
        "https://bit.ly/initnotebooksrc"
      ]
    },
    {
      "cell_type": "code",
      "metadata": {
        "id": "0FvWg9FzVycb",
        "colab_type": "code",
        "colab": {}
      },
      "source": [
        "!wget bit.ly/initnotebook -O init.ipynb\n",
        "%run init.ipynb"
      ],
      "execution_count": 0,
      "outputs": []
    },
    {
      "cell_type": "code",
      "metadata": {
        "id": "YcwtD0ePa2rp",
        "colab_type": "code",
        "colab": {
          "base_uri": "https://localhost:8080/",
          "height": 143
        },
        "outputId": "951d64ad-4150-4ee0-992e-8dcc25bfefb2"
      },
      "source": [
        "from datautil import data_reader\n",
        "\n",
        "reader = data_reader(DATA_FILE, columns=columns, label_index=0, window_size=window_size, batchsize=batch_size)\n",
        "data_train, data_label = reader.get_shuff_train_label()"
      ],
      "execution_count": 9,
      "outputs": [
        {
          "output_type": "stream",
          "text": [
            "Warning: Data passed should be normalized!\n",
            "reading data from file data/case02.csv\n",
            "Raw data (763, 54)\n",
            "Dropna with selected columns (763, 54)\n",
            "[[61.  0.]\n",
            " [61.  0.]\n",
            " [61.  0.]]\n"
          ],
          "name": "stdout"
        }
      ]
    },
    {
      "cell_type": "code",
      "metadata": {
        "id": "qUt4zELnba7F",
        "colab_type": "code",
        "colab": {
          "base_uri": "https://localhost:8080/",
          "height": 287
        },
        "outputId": "1f12a78f-9e9a-46aa-a435-918d8fbff4bb"
      },
      "source": [
        "import modelutil\n",
        "\n",
        "model = modelutil.load_model_yaml('models', 'ramtin2lstm64.epoch-' + str(epochs))\n",
        "model.compile(loss='mse', optimizer='adam', metrics=['mae'])\n",
        "model.summary()"
      ],
      "execution_count": 15,
      "outputs": [
        {
          "output_type": "stream",
          "text": [
            "load model from file models/model.ramtin2lstm64.epoch-100.yaml\n",
            "loading weights from  models/model.ramtin2lstm64.epoch-100.h5\n",
            "_________________________________________________________________\n",
            "Layer (type)                 Output Shape              Param #   \n",
            "=================================================================\n",
            "lstm_1 (LSTM)                (None, 80, 64)            16896     \n",
            "_________________________________________________________________\n",
            "lstm_2 (LSTM)                (None, 64)                33024     \n",
            "_________________________________________________________________\n",
            "dense_3 (Dense)              (None, 1)                 65        \n",
            "=================================================================\n",
            "Total params: 49,985\n",
            "Trainable params: 49,985\n",
            "Non-trainable params: 0\n",
            "_________________________________________________________________\n"
          ],
          "name": "stdout"
        }
      ]
    },
    {
      "cell_type": "code",
      "metadata": {
        "id": "-JFTnL1-cCVV",
        "colab_type": "code",
        "colab": {
          "base_uri": "https://localhost:8080/",
          "height": 53
        },
        "outputId": "b674c842-20f0-47e7-a6ea-24cf283ac2a7"
      },
      "source": [
        "import numpy as np\n",
        "\n",
        "loss_metrics = model.evaluate(\n",
        "  np.expand_dims(reader.val_data, axis=-1),\n",
        "  reader.val_label,\n",
        "  batch_size=batch_size,\n",
        "  verbose=0\n",
        ")\n",
        "\n",
        "print(model.metrics_names)\n",
        "print(loss_metrics)"
      ],
      "execution_count": 17,
      "outputs": [
        {
          "output_type": "stream",
          "text": [
            "['loss', 'mean_absolute_error']\n",
            "[35.13100513059702, 5.311560210896961]\n"
          ],
          "name": "stdout"
        }
      ]
    }
  ]
}