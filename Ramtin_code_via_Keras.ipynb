{
  "nbformat": 4,
  "nbformat_minor": 0,
  "metadata": {
    "colab": {
      "name": "Ramtin code via Keras.ipynb",
      "version": "0.3.2",
      "provenance": [],
      "collapsed_sections": [],
      "include_colab_link": true
    },
    "kernelspec": {
      "name": "python3",
      "display_name": "Python 3"
    }
  },
  "cells": [
    {
      "cell_type": "markdown",
      "metadata": {
        "id": "view-in-github",
        "colab_type": "text"
      },
      "source": [
        "<a href=\"https://colab.research.google.com/github/hossein20s/Average_Blood_Pressure_estimation/blob/master/Ramtin_code_via_Keras.ipynb\" target=\"_parent\"><img src=\"https://colab.research.google.com/assets/colab-badge.svg\" alt=\"Open In Colab\"/></a>"
      ]
    },
    {
      "cell_type": "code",
      "metadata": {
        "id": "VLsAWOeTI_WR",
        "colab_type": "code",
        "colab": {}
      },
      "source": [
        "import datetime as dt\n",
        "\n",
        "class Timer():\n",
        "\n",
        "\tdef __init__(self):\n",
        "\t\tself.start_dt = None\n",
        "\n",
        "\tdef start(self):\n",
        "\t\tself.start_dt = dt.datetime.now()\n",
        "\n",
        "\tdef stop(self):\n",
        "\t\tend_dt = dt.datetime.now()\n",
        "\t\tprint('Time taken: %s' % (end_dt - self.start_dt))"
      ],
      "execution_count": 0,
      "outputs": []
    },
    {
      "cell_type": "code",
      "metadata": {
        "id": "lgJvLjw829GI",
        "colab_type": "code",
        "outputId": "47d10fab-7dd3-4042-ee1f-3b12982fe0cc",
        "colab": {
          "base_uri": "https://localhost:8080/",
          "height": 35
        }
      },
      "source": [
        "import keras\n",
        "\n",
        "# Display training progress by printing a single dot for each completed epoch\n",
        "class PrintDot(keras.callbacks.Callback):\n",
        "  def on_epoch_end(self, epoch, logs):\n",
        "    if epoch % 100 == 0: print('')\n",
        "    print('.', end='')\n"
      ],
      "execution_count": 0,
      "outputs": [
        {
          "output_type": "stream",
          "text": [
            "Using TensorFlow backend.\n"
          ],
          "name": "stderr"
        }
      ]
    },
    {
      "cell_type": "code",
      "metadata": {
        "id": "yVGTVJi2IyP0",
        "colab_type": "code",
        "outputId": "3d88483e-eca3-4dbe-b8ab-facb5f0572e7",
        "colab": {
          "base_uri": "https://localhost:8080/",
          "height": 469
        }
      },
      "source": [
        "!pip install gcsfs\n",
        "\n",
        "import pandas as pd\n",
        "\n",
        "case_id = '01'\n",
        "data = pd.read_csv('http://storage.googleapis.com/medicalblockchain_dev/data/UniversityQueenslandVitalSignals/case%s/uq_vsd_case%s_trenddata.csv'%(case_id, case_id),\\\n",
        "                               error_bad_lines=False, warn_bad_lines=False, index_col=False);\n",
        "data = data[[\"RelativeTimeMilliseconds\", \"NBP (Mean)\", \"Minute Volume\"]].dropna()\n",
        "data = (data - data.mean())/(data.max() - data.min())\n",
        "\n",
        "\n",
        "DATA_FILE = 'case1_trends_3column.csv'\n",
        "\n",
        "data.to_csv(DATA_FILE)\n"
      ],
      "execution_count": 0,
      "outputs": [
        {
          "output_type": "stream",
          "text": [
            "Collecting gcsfs\n",
            "\u001b[?25l  Downloading https://files.pythonhosted.org/packages/76/19/68ab4e6570a7882698058be8ecf1b195b0b784b838ac1b0ea82c422c0f5a/gcsfs-0.2.2.tar.gz (52kB)\n",
            "\u001b[K     |████████████████████████████████| 61kB 3.9MB/s \n",
            "\u001b[?25hRequirement already satisfied: google-auth>=1.2 in /usr/local/lib/python3.6/dist-packages (from gcsfs) (1.4.2)\n",
            "Requirement already satisfied: google-auth-oauthlib in /usr/local/lib/python3.6/dist-packages (from gcsfs) (0.3.0)\n",
            "Requirement already satisfied: requests in /usr/local/lib/python3.6/dist-packages (from gcsfs) (2.21.0)\n",
            "Requirement already satisfied: decorator in /usr/local/lib/python3.6/dist-packages (from gcsfs) (4.4.0)\n",
            "Requirement already satisfied: six>=1.9.0 in /usr/local/lib/python3.6/dist-packages (from google-auth>=1.2->gcsfs) (1.12.0)\n",
            "Requirement already satisfied: rsa>=3.1.4 in /usr/local/lib/python3.6/dist-packages (from google-auth>=1.2->gcsfs) (4.0)\n",
            "Requirement already satisfied: pyasn1-modules>=0.2.1 in /usr/local/lib/python3.6/dist-packages (from google-auth>=1.2->gcsfs) (0.2.5)\n",
            "Requirement already satisfied: cachetools>=2.0.0 in /usr/local/lib/python3.6/dist-packages (from google-auth>=1.2->gcsfs) (3.1.1)\n",
            "Requirement already satisfied: requests-oauthlib>=0.7.0 in /usr/local/lib/python3.6/dist-packages (from google-auth-oauthlib->gcsfs) (1.2.0)\n",
            "Requirement already satisfied: idna<2.9,>=2.5 in /usr/local/lib/python3.6/dist-packages (from requests->gcsfs) (2.8)\n",
            "Requirement already satisfied: chardet<3.1.0,>=3.0.2 in /usr/local/lib/python3.6/dist-packages (from requests->gcsfs) (3.0.4)\n",
            "Requirement already satisfied: certifi>=2017.4.17 in /usr/local/lib/python3.6/dist-packages (from requests->gcsfs) (2019.3.9)\n",
            "Requirement already satisfied: urllib3<1.25,>=1.21.1 in /usr/local/lib/python3.6/dist-packages (from requests->gcsfs) (1.24.3)\n",
            "Requirement already satisfied: pyasn1>=0.1.3 in /usr/local/lib/python3.6/dist-packages (from rsa>=3.1.4->google-auth>=1.2->gcsfs) (0.4.5)\n",
            "Requirement already satisfied: oauthlib>=3.0.0 in /usr/local/lib/python3.6/dist-packages (from requests-oauthlib>=0.7.0->google-auth-oauthlib->gcsfs) (3.0.1)\n",
            "Building wheels for collected packages: gcsfs\n",
            "  Building wheel for gcsfs (setup.py) ... \u001b[?25l\u001b[?25hdone\n",
            "  Stored in directory: /root/.cache/pip/wheels/9f/0f/b9/5bc5222756d121ccace51ab3084a1c733380908a4e2f939038\n",
            "Successfully built gcsfs\n",
            "Installing collected packages: gcsfs\n",
            "Successfully installed gcsfs-0.2.2\n"
          ],
          "name": "stdout"
        }
      ]
    },
    {
      "cell_type": "code",
      "metadata": {
        "id": "mBxAtc9CJEqF",
        "colab_type": "code",
        "colab": {}
      },
      "source": [
        "import numpy as np\n",
        "import pandas as pd\n",
        "\n",
        "class data_reader():\n",
        "    def __init__(self, filename, l=10, batchsize=32, random=True):\n",
        "        # process the data into a matrix, and return the lenght\n",
        "        print(\"Warning: Data passed should be normalized!\")\n",
        "        self.frac = 0.65\n",
        "        self.random = random\n",
        "        df = pd.read_csv(filename)\n",
        "        self.process(df, l)\n",
        "        self.batchsize = batchsize\n",
        "\n",
        "        self.pointer = 0\n",
        "        self.epoch = 0\n",
        "    def process(self, df, l):\n",
        "        # Generate the data matrix\n",
        "        print(df.head(3))\n",
        "        df = df[[\"NBP (Mean)\", \"Minute Volume\"]].dropna().as_matrix()\n",
        "        length = df.shape[0]\n",
        "        data = np.zeros((length-l, l))\n",
        "        label = np.zeros((length-l, 1))\n",
        "        for counter in range(length-l):\n",
        "            data[counter, :] = df[counter: counter+l, 1]\n",
        "            label[counter, :] = df[counter+l, 0]\n",
        "        # Random shuffle\n",
        "        length = data.shape[0]\n",
        "        idx = np.random.choice(length, length, replace=False)\n",
        "        if not self.random:\n",
        "            idx = np.arange(length)\n",
        "        self.val_idx = idx[int(self.frac*length):]\n",
        "\n",
        "        shuf_data = data[idx, :]\n",
        "        shuf_label = label[idx, :]\n",
        "        self.shuf_data = shuf_data\n",
        "        self.shuf_label = shuf_label\n",
        "        self.data =data\n",
        "        self.label = label\n",
        "\n",
        "        self.train_data = shuf_data[:int(self.frac*length), :]\n",
        "        self.train_label = shuf_label[:int(self.frac*length), :]\n",
        "        self.train_size = int(self.frac*length)\n",
        "\n",
        "        self.val_data = shuf_data[int(self.frac*length):, :]\n",
        "        self.val_label = shuf_label[int(self.frac*length):, :]\n",
        "        self.val_size = int((1-self.frac)*length)\n",
        "\n",
        "        return None\n",
        "\n",
        "    def get_next_train_batch(self):\n",
        "        # getting the next train batch\n",
        "        if self.pointer + self.batchsize >= self.train_size:\n",
        "            end = self.train_size\n",
        "            start = self.pointer\n",
        "            self.pointer = 0\n",
        "            self.epoch += 1\n",
        "        else:\n",
        "            end = self.pointer + self.batchsize\n",
        "            start = self.pointer\n",
        "            self.pointer += self.batchsize\n",
        "        X = np.expand_dims(self.train_data[start:end, :], axis=-1)\n",
        "        Y = self.train_label[start:end, :]\n",
        "        return X, Y\n",
        "\n",
        "    def get_val(self):\n",
        "        X = np.expand_dims(self.val_data, axis=-1)\n",
        "\n",
        "        return X, self.val_label[:]\n",
        "\n",
        "    def get_whole(self):\n",
        "        # get whole, for validation set\n",
        "        X = np.expand_dims(self.data[:, :], axis=-1)\n",
        "        Y = self.label[:, :]\n",
        "        return X, Y\n",
        "\n",
        "    def reset(self):\n",
        "        self.pointer = 0\n",
        "        self.epoch = 0\n",
        "\n",
        "    def get_epoch(self):\n",
        "        # return the current epoch\n",
        "        return self.epoch"
      ],
      "execution_count": 0,
      "outputs": []
    },
    {
      "cell_type": "code",
      "metadata": {
        "id": "aBJrROCdIEan",
        "colab_type": "code",
        "outputId": "c0286439-8ba8-4e3c-9a80-844daa763796",
        "colab": {
          "base_uri": "https://localhost:8080/",
          "height": 433
        }
      },
      "source": [
        "\n",
        "import json\n",
        "!wget \"bit.ly/ramtinconfig\" -O config.ramtin.json\n",
        "CONFIG_JSON_FILE = 'config.ramtin.json'\n",
        "import os\n",
        "configs = json.load(open(CONFIG_JSON_FILE, 'r'))\n",
        "\n",
        "'''\n",
        "data = DataLoader(\n",
        "\tos.path.join('data', configs['data']['filename']),\n",
        "\tconfigs['data']['train_test_split'],\n",
        "\tconfigs['data']['columns']\n",
        ")\n",
        "'''\n",
        "array_size = configs['training']['feature_size']\n",
        "reader = data_reader(\n",
        "\tos.path.join( configs['data']['filename']),\n",
        "\tl=array_size,\n",
        "\tbatchsize=configs['training']['batch_size']\n",
        ")\n"
      ],
      "execution_count": 0,
      "outputs": [
        {
          "output_type": "stream",
          "text": [
            "--2019-06-11 18:03:22--  http://bit.ly/ramtinconfig\n",
            "Resolving bit.ly (bit.ly)... 67.199.248.10, 67.199.248.11\n",
            "Connecting to bit.ly (bit.ly)|67.199.248.10|:80... connected.\n",
            "HTTP request sent, awaiting response... 301 Moved Permanently\n",
            "Location: https://raw.githubusercontent.com/hossein20s/Average_Blood_Pressure_estimation/master/config.ramtin.json [following]\n",
            "--2019-06-11 18:03:22--  https://raw.githubusercontent.com/hossein20s/Average_Blood_Pressure_estimation/master/config.ramtin.json\n",
            "Resolving raw.githubusercontent.com (raw.githubusercontent.com)... 151.101.0.133, 151.101.64.133, 151.101.128.133, ...\n",
            "Connecting to raw.githubusercontent.com (raw.githubusercontent.com)|151.101.0.133|:443... connected.\n",
            "HTTP request sent, awaiting response... 200 OK\n",
            "Length: 1153 (1.1K) [text/plain]\n",
            "Saving to: ‘config.ramtin.json’\n",
            "\n",
            "config.ramtin.json  100%[===================>]   1.13K  --.-KB/s    in 0s      \n",
            "\n",
            "2019-06-11 18:03:22 (123 MB/s) - ‘config.ramtin.json’ saved [1153/1153]\n",
            "\n",
            "Warning: Data passed should be normalized!\n",
            "   Unnamed: 0  RelativeTimeMilliseconds  NBP (Mean)  Minute Volume\n",
            "0           8                 -0.502928    0.668077      -0.426493\n",
            "1           9                 -0.502789    0.668077      -0.426493\n",
            "2          10                 -0.502651    0.668077      -0.426493\n"
          ],
          "name": "stdout"
        },
        {
          "output_type": "stream",
          "text": [
            "/usr/local/lib/python3.6/dist-packages/ipykernel_launcher.py:19: FutureWarning: Method .as_matrix will be removed in a future version. Use .values instead.\n"
          ],
          "name": "stderr"
        }
      ]
    },
    {
      "cell_type": "code",
      "metadata": {
        "id": "rnvpuAtpJuQt",
        "colab_type": "code",
        "colab": {}
      },
      "source": [
        "import os\n",
        "import math\n",
        "import numpy as np\n",
        "import datetime as dt\n",
        "from numpy import newaxis\n",
        "from keras.layers import Dense, Activation, Dropout, LSTM\n",
        "from keras import Sequential\n",
        "from keras.models import load_model\n",
        "from keras.callbacks import EarlyStopping, ModelCheckpoint\n",
        "from keras.layers import TimeDistributed\n",
        "from keras.layers import RepeatVector, Conv1D, MaxPool1D, Flatten\n",
        "\n",
        "class TheModel():\n",
        "  \"\"\"A class for an building and inferencing an lstm model\"\"\"\n",
        "\n",
        "  def __init__(self):\n",
        "    self.model = Sequential()\n",
        "\n",
        "  def load_model(self, filepath):\n",
        "    print('[Model] Loading model from file %s' % filepath)\n",
        "    self.model = load_model(filepath)\n",
        "\n",
        "  def build_model(self, configs):\n",
        "    timer = Timer()\n",
        "    timer.start()\n",
        "    timer.start()\n",
        "    \n",
        "    input_shape = None\n",
        "    has_input_shape = False\n",
        "    is_first_layer = True\n",
        "\n",
        "\n",
        "\n",
        "    for layer in configs['model']['layers']:\n",
        "      neurons = layer['neurons'] if 'neurons' in layer else None\n",
        "      rate = layer['rate'] if 'rate' in layer else None\n",
        "      activation = layer['activation'] if 'activation' in layer else None\n",
        "      return_seq = layer['return_seq'] if 'return_seq' in layer else None\n",
        "      input_timesteps = layer['input_timesteps'] if 'input_timesteps' in layer else None\n",
        "      input_dim = layer['input_dim'] if 'input_dim' in layer else None\n",
        "      kernel_size = layer['kernel_size'] if 'kernel_size' in layer else None\n",
        "      filters = layer['filters'] if 'filters' in layer else None\n",
        "      strides = layer['strides'] if 'strides' in layer else 1\n",
        "      print(kernel_size)\n",
        "      if 'input_shape' in layer:\n",
        "        input_shape = layer['input_shape']\n",
        "        has_input_shape = true\n",
        "\n",
        "      if layer['type'] == 'dense':\n",
        "        if(is_first_layer):\n",
        "          self.model.add(Dense(neurons, activation=activation, input_shape=input_shape))\n",
        "          is_first_layer = False\n",
        "        else:\n",
        "          self.model.add(Dense(neurons, activation=activation))\n",
        "      if layer['type'] == 'lstm' or layer['type'] == 'conv1D':\n",
        "        input_shape=(input_timesteps, input_dim)\n",
        "        has_input_shape = True\n",
        "        if(layer['type'] == 'lstm'):\n",
        "          if is_first_layer:\n",
        "            self.model.add(LSTM(neurons, input_shape=input_shape, return_sequences=return_seq))\n",
        "            is_first_layer = False\n",
        "          else:\n",
        "            self.model.add(LSTM(neurons, return_sequences=return_seq))\n",
        "        if(layer['type'] == 'conv1D'):\n",
        "          if is_first_layer:\n",
        "            self.model.add(Conv1D(filters, kernel_size, strides=strides, activation='relu', input_shape=input_shape))\n",
        "            is_first_layer = False\n",
        "          else:\n",
        "            self.model.add(Conv1D(filters, kernel_size, strides=strides, activation='relu'))\n",
        "      if layer['type'] == 'dropout':\n",
        "          self.model.add(Dropout(rate))\n",
        "      if layer['type'] == 'flatten':\n",
        "          self.model.add(Flatten())\n",
        "      if layer['type'] == 'maxpool1D':\n",
        "          self.model.add(MaxPool1D(rate))\n",
        "      if layer['type'] == 'repeat_vector':\n",
        "        self.model.add(RepeatVector(input_timesteps))\n",
        "      if layer['type'] == 'time_distributed_dense':\n",
        "        self.model.add(TimeDistributed(Dense(neurons, activation=activation)))\n",
        "      if layer['type'] == 'attention_decoder':\n",
        "        self.model.add(AttentionDecoder(neurons, input_dim))\n",
        "      if layer['type'] == 'attention':\n",
        "        self.model.add(Attention())\n",
        "\n",
        "    print(configs['model']['metrics'])\n",
        "    self.model.compile(loss='mse', \n",
        "                       optimizer=configs['model']['optimizer'],\n",
        "                      metrics=configs['model']['metrics'])\n",
        "    print('[Model] Model Compiled')\n",
        "    print('input_shape: ',input_shape)\n",
        "    if has_input_shape:\n",
        "      self.model.summary()\n",
        "    timer.stop()\n",
        "\n",
        "  def fit(self, x, y, epochs, batch_size, validation_split, save_dir):\n",
        "    timer = Timer()\n",
        "    timer.start()\n",
        "    print('[Model] Training Started')\n",
        "    print('[Model] %s epochs, %s batch size' % (epochs, batch_size))\n",
        "\n",
        "    save_fname = os.path.join(save_dir, '%s-e%s.h5' % (dt.datetime.now().strftime('%d%m%Y-%H%M%S'), str(epochs)))\n",
        "\n",
        "    callbacks = [\n",
        "        PrintDot()\n",
        "    #            EarlyStopping(monitor='val_loss', patience=2),\n",
        "    #            ModelCheckpoint(filepath=save_fname, monitor='val_loss', save_best_only=True)\n",
        "    ]\n",
        "    history = self.model.fit(\n",
        "      x,\n",
        "      y,\n",
        "      epochs=epochs,\n",
        "      batch_size=batch_size,\n",
        "      validation_split = validation_split, \n",
        "      verbose=0,\n",
        "      callbacks=callbacks\n",
        "    )\n",
        "    self.model.save(save_fname)\n",
        "\n",
        "    print('[Model] Training Completed. Model saved as %s' % save_fname)\n",
        "    timer.stop()\n",
        "    return history\n",
        "\n",
        "  def fit_generator(self, data_gen, epochs, batch_size, steps_per_epoch, save_dir):\n",
        "    timer = Timer()\n",
        "    timer.start()\n",
        "    print('[Model] Training Started')\n",
        "    print('[Model] %s epochs, %s batch size, %s batches per epoch' % (epochs, batch_size, steps_per_epoch))\n",
        "\n",
        "    save_fname = os.path.join(save_dir, '%s-e%s.h5' % (dt.datetime.now().strftime('%d%m%Y-%H%M%S'), str(epochs)))\n",
        "    callbacks = [\n",
        "      ModelCheckpoint(filepath=save_fname, monitor='loss', save_best_only=True)\n",
        "    ]\n",
        "    self.model.fit_generator(\n",
        "      data_gen,\n",
        "      steps_per_epoch=steps_per_epoch,\n",
        "      epochs=epochs,\n",
        "      callbacks=callbacks,\n",
        "      workers=1\n",
        "    )\n",
        "\n",
        "    print('[Model] Training Completed. Model saved as %s' % save_fname)\n",
        "    timer.stop()\n",
        "\n",
        "  def predict_point_by_point(self, data):\n",
        "    #Predict each timestep given the last sequence of true data, in effect only predicting 1 step ahead each time\n",
        "    print('[Model] Predicting Point-by-Point...')\n",
        "    predicted = self.model.predict(data)\n",
        "    predicted = np.reshape(predicted, (predicted.size,))\n",
        "    return predicted\n",
        "\n",
        "  def predict_sequences_multiple(self, data, window_size, prediction_len):\n",
        "    #Predict sequence of 50 steps before shifting prediction run forward by 50 steps\n",
        "    print('[Model] Predicting Sequences Multiple...')\n",
        "    prediction_seqs = []\n",
        "    for i in range(int(len(data)/prediction_len)):\n",
        "      curr_frame = data[i*prediction_len]\n",
        "      predicted = []\n",
        "      for j in range(prediction_len):\n",
        "        predicted.append(self.model.predict(curr_frame[newaxis,:,:])[0,0])\n",
        "        curr_frame = curr_frame[1:]\n",
        "        curr_frame = np.insert(curr_frame, [window_size-2], predicted[-1], axis=0)\n",
        "      prediction_seqs.append(predicted)\n",
        "    return prediction_seqs\n",
        "\n",
        "  def predict_sequence_full(self, data, window_size):\n",
        "    #Shift the window by 1 new prediction each time, re-run predictions on new window\n",
        "    print('[Model] Predicting Sequences Full...')\n",
        "    curr_frame = data[0]\n",
        "    predicted = []\n",
        "    for i in range(len(data)):\n",
        "      predicted.append(self.model.predict(curr_frame[newaxis,:,:])[0,0])\n",
        "      curr_frame = curr_frame[1:]\n",
        "      curr_frame = np.insert(curr_frame, [window_size-2], predicted[-1], axis=0)\n",
        "    return predicted\n",
        "\n"
      ],
      "execution_count": 0,
      "outputs": []
    },
    {
      "cell_type": "code",
      "metadata": {
        "id": "pCPN9AvZIdIu",
        "colab_type": "code",
        "outputId": "65651f07-3297-450c-f300-4a9b3e10e026",
        "colab": {
          "base_uri": "https://localhost:8080/",
          "height": 872
        }
      },
      "source": [
        "\n",
        "import json\n",
        "\n",
        "theModel = TheModel()\n",
        "print(configs)\n",
        "theModel.build_model(configs)\n",
        "\n",
        "max_epoch = configs['training']['epochs']\n",
        "\n",
        "epoch = reader.get_epoch()\n",
        "\n",
        "x = np.expand_dims(reader.shuf_data, axis=-1)\n",
        "y = reader.shuf_label\n",
        "history = theModel.fit(\n",
        "  x,\n",
        "  y,\n",
        "  epochs = max_epoch,\n",
        "  batch_size = configs['training']['batch_size'],\n",
        "  validation_split = configs['training']['validation_split'],\n",
        "  save_dir = configs['model']['save_dir']\n",
        ")\n",
        "\n",
        "hist = pd.DataFrame(history.history)\n",
        "hist['epoch'] = history.epoch\n",
        "hist.tail()\n"
      ],
      "execution_count": 0,
      "outputs": [
        {
          "output_type": "stream",
          "text": [
            "{'data': {'columns': ['RelativeTimeMilliseconds, NBP (Mean), Minute Volume'], 'filename': 'case1_trends_3column.csv', 'n_features': 1, 'normalise': True, 'sequence_length': 64, 'train_test_split': 0.85}, 'model': {'layers': [{'filters': 10, 'input_dim': 1, 'input_timesteps': 80, 'kernel_size': 20, 'strides': 5, 'type': 'conv1D'}, {'filters': 20, 'kernel_size': 5, 'type': 'conv1D'}, {'filters': 40, 'kernel_size': 5, 'type': 'conv1D'}, {'type': 'flatten'}, {'activation': 'linear', 'neurons': 1, 'type': 'dense'}], 'loss': 'mse', 'metrics': ['mse', 'acc'], 'optimizer': 'adam', 'save_dir': '/tmp'}, 'training': {'batch_size': 64, 'epochs': 500, 'feature_size': 80, 'validation_split': 0.35}}\n",
            "20\n",
            "5\n",
            "5\n",
            "None\n",
            "None\n",
            "['mse', 'acc']\n",
            "[Model] Model Compiled\n",
            "input_shape:  (None, None)\n",
            "_________________________________________________________________\n",
            "Layer (type)                 Output Shape              Param #   \n",
            "=================================================================\n",
            "conv1d_4 (Conv1D)            (None, 13, 10)            210       \n",
            "_________________________________________________________________\n",
            "conv1d_5 (Conv1D)            (None, 9, 20)             1020      \n",
            "_________________________________________________________________\n",
            "conv1d_6 (Conv1D)            (None, 5, 40)             4040      \n",
            "_________________________________________________________________\n",
            "flatten_2 (Flatten)          (None, 200)               0         \n",
            "_________________________________________________________________\n",
            "dense_2 (Dense)              (None, 1)                 201       \n",
            "=================================================================\n",
            "Total params: 5,471\n",
            "Trainable params: 5,471\n",
            "Non-trainable params: 0\n",
            "_________________________________________________________________\n",
            "Time taken: 0:00:00.123678\n",
            "[Model] Training Started\n",
            "[Model] 500 epochs, 64 batch size\n",
            "\n",
            "....................................................................................................\n",
            "....................................................................................................\n",
            "....................................................................................................\n",
            "....................................................................................................\n",
            "....................................................................................................[Model] Training Completed. Model saved as /tmp/11062019-181402-e500.h5\n",
            "Time taken: 0:02:28.548353\n"
          ],
          "name": "stdout"
        },
        {
          "output_type": "execute_result",
          "data": {
            "text/html": [
              "<div>\n",
              "<style scoped>\n",
              "    .dataframe tbody tr th:only-of-type {\n",
              "        vertical-align: middle;\n",
              "    }\n",
              "\n",
              "    .dataframe tbody tr th {\n",
              "        vertical-align: top;\n",
              "    }\n",
              "\n",
              "    .dataframe thead th {\n",
              "        text-align: right;\n",
              "    }\n",
              "</style>\n",
              "<table border=\"1\" class=\"dataframe\">\n",
              "  <thead>\n",
              "    <tr style=\"text-align: right;\">\n",
              "      <th></th>\n",
              "      <th>val_loss</th>\n",
              "      <th>val_mean_squared_error</th>\n",
              "      <th>val_acc</th>\n",
              "      <th>loss</th>\n",
              "      <th>mean_squared_error</th>\n",
              "      <th>acc</th>\n",
              "      <th>epoch</th>\n",
              "    </tr>\n",
              "  </thead>\n",
              "  <tbody>\n",
              "    <tr>\n",
              "      <th>495</th>\n",
              "      <td>0.001256</td>\n",
              "      <td>0.001256</td>\n",
              "      <td>0.0</td>\n",
              "      <td>0.000686</td>\n",
              "      <td>0.000686</td>\n",
              "      <td>0.0</td>\n",
              "      <td>495</td>\n",
              "    </tr>\n",
              "    <tr>\n",
              "      <th>496</th>\n",
              "      <td>0.001522</td>\n",
              "      <td>0.001522</td>\n",
              "      <td>0.0</td>\n",
              "      <td>0.000845</td>\n",
              "      <td>0.000845</td>\n",
              "      <td>0.0</td>\n",
              "      <td>496</td>\n",
              "    </tr>\n",
              "    <tr>\n",
              "      <th>497</th>\n",
              "      <td>0.001042</td>\n",
              "      <td>0.001042</td>\n",
              "      <td>0.0</td>\n",
              "      <td>0.000767</td>\n",
              "      <td>0.000767</td>\n",
              "      <td>0.0</td>\n",
              "      <td>497</td>\n",
              "    </tr>\n",
              "    <tr>\n",
              "      <th>498</th>\n",
              "      <td>0.001500</td>\n",
              "      <td>0.001500</td>\n",
              "      <td>0.0</td>\n",
              "      <td>0.000734</td>\n",
              "      <td>0.000734</td>\n",
              "      <td>0.0</td>\n",
              "      <td>498</td>\n",
              "    </tr>\n",
              "    <tr>\n",
              "      <th>499</th>\n",
              "      <td>0.001514</td>\n",
              "      <td>0.001514</td>\n",
              "      <td>0.0</td>\n",
              "      <td>0.000722</td>\n",
              "      <td>0.000722</td>\n",
              "      <td>0.0</td>\n",
              "      <td>499</td>\n",
              "    </tr>\n",
              "  </tbody>\n",
              "</table>\n",
              "</div>"
            ],
            "text/plain": [
              "     val_loss  val_mean_squared_error  val_acc  ...  mean_squared_error  acc  epoch\n",
              "495  0.001256                0.001256      0.0  ...            0.000686  0.0    495\n",
              "496  0.001522                0.001522      0.0  ...            0.000845  0.0    496\n",
              "497  0.001042                0.001042      0.0  ...            0.000767  0.0    497\n",
              "498  0.001500                0.001500      0.0  ...            0.000734  0.0    498\n",
              "499  0.001514                0.001514      0.0  ...            0.000722  0.0    499\n",
              "\n",
              "[5 rows x 7 columns]"
            ]
          },
          "metadata": {
            "tags": []
          },
          "execution_count": 19
        }
      ]
    },
    {
      "cell_type": "code",
      "metadata": {
        "id": "CMxPJzgXYdWJ",
        "colab_type": "code",
        "outputId": "2feebaab-d612-4076-b032-43398f9d746d",
        "colab": {
          "base_uri": "https://localhost:8080/",
          "height": 287
        }
      },
      "source": [
        "import matplotlib.pyplot as plt\n",
        "\n",
        "plt.plot(np.arange(max_epoch), history.history['loss'], label='train')\n",
        "plt.plot(np.arange(max_epoch), history.history['val_loss'], label='validation')\n",
        "plt.legend()\n"
      ],
      "execution_count": 0,
      "outputs": [
        {
          "output_type": "execute_result",
          "data": {
            "text/plain": [
              "<matplotlib.legend.Legend at 0x7f84f3597198>"
            ]
          },
          "metadata": {
            "tags": []
          },
          "execution_count": 20
        },
        {
          "output_type": "display_data",
          "data": {
            "image/png": "[encoded data removed]",
            "text/plain": [
              "<Figure size 432x288 with 1 Axes>"
            ]
          },
          "metadata": {
            "tags": []
          }
        }
      ]
    },
    {
      "cell_type": "code",
      "metadata": {
        "id": "uPuKSbqLpHuB",
        "colab_type": "code",
        "colab": {}
      },
      "source": [
        "configs"
      ],
      "execution_count": 0,
      "outputs": []
    },
    {
      "cell_type": "code",
      "metadata": {
        "id": "CX9mTVLBpIqT",
        "colab_type": "code",
        "outputId": "b682cdca-209d-45ed-bcd0-665c9654e290",
        "colab": {
          "base_uri": "https://localhost:8080/",
          "height": 35
        }
      },
      "source": [
        "np.max(x)"
      ],
      "execution_count": 0,
      "outputs": [
        {
          "output_type": "execute_result",
          "data": {
            "text/plain": [
              "0.3860074284666177"
            ]
          },
          "metadata": {
            "tags": []
          },
          "execution_count": 26
        }
      ]
    },
    {
      "cell_type": "code",
      "metadata": {
        "id": "bfxMq91OsHt8",
        "colab_type": "code",
        "outputId": "89f65446-09ea-4856-ffa4-ee55e2ad10bb",
        "colab": {
          "base_uri": "https://localhost:8080/",
          "height": 35
        }
      },
      "source": [
        "theModel.model.loss"
      ],
      "execution_count": 0,
      "outputs": [
        {
          "output_type": "execute_result",
          "data": {
            "text/plain": [
              "'mean_squared_error'"
            ]
          },
          "metadata": {
            "tags": []
          },
          "execution_count": 14
        }
      ]
    },
    {
      "cell_type": "code",
      "metadata": {
        "id": "4MjX8I03ua0h",
        "colab_type": "code",
        "outputId": "6c9945d7-0966-4f46-b1b8-d555ea347b2e",
        "colab": {
          "base_uri": "https://localhost:8080/",
          "height": 107
        }
      },
      "source": [
        "for layer in configs['model']['layers']:\n",
        "  print(layer)"
      ],
      "execution_count": 0,
      "outputs": [
        {
          "output_type": "stream",
          "text": [
            "{'filters': 10, 'input_dim': 1, 'input_timesteps': 80, 'kernel_size': 20, 'strides': 5, 'type': 'conv1D'}\n",
            "{'filters': 20, 'kernel_size': 5, 'type': 'conv1D'}\n",
            "{'filters': 40, 'kernel_size': 5, 'type': 'conv1D'}\n",
            "{'type': 'flatten'}\n",
            "{'activation': 'linear', 'neurons': 1, 'type': 'dense'}\n"
          ],
          "name": "stdout"
        }
      ]
    },
    {
      "cell_type": "code",
      "metadata": {
        "id": "wflrwTfUvWKm",
        "colab_type": "code",
        "colab": {}
      },
      "source": [
        ""
      ],
      "execution_count": 0,
      "outputs": []
    }
  ]
}