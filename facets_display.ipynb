{
  "nbformat": 4,
  "nbformat_minor": 0,
  "metadata": {
    "colab": {
      "name": "facets_display.ipynb",
      "version": "0.3.2",
      "provenance": [],
      "include_colab_link": true
    },
    "kernelspec": {
      "name": "python3",
      "display_name": "Python 3"
    }
  },
  "cells": [
    {
      "cell_type": "markdown",
      "metadata": {
        "id": "view-in-github",
        "colab_type": "text"
      },
      "source": [
        "<a href=\"https://colab.research.google.com/gist/hossein20s/0b9a6d250da3ede146846027328b12f7/facets_display.ipynb\" target=\"_parent\"><img src=\"https://colab.research.google.com/assets/colab-badge.svg\" alt=\"Open In Colab\"/></a>"
      ]
    },
    {
      "cell_type": "code",
      "metadata": {
        "id": "2q4bZihBZmG_",
        "colab_type": "code",
        "colab": {}
      },
      "source": [
        "import shutil, os\n",
        "if os.path.exists('./facets'):\n",
        "  shutil.rmtree(\"./facets\")\n",
        "\n",
        "!git clone https://github.com/PAIR-code/facets\n",
        "!jupyter nbextension install facets/facets-dist/ \n",
        "\n",
        "import sys\n",
        "import os\n",
        "sys.path.append(os.path.abspath('./facets/facets_overview/python/'))\n",
        "\n",
        "from generic_feature_statistics_generator import GenericFeatureStatisticsGenerator\n",
        "import base64"
      ],
      "execution_count": 0,
      "outputs": []
    },
    {
      "cell_type": "code",
      "metadata": {
        "id": "XTW6Gl3IZwPq",
        "colab_type": "code",
        "colab": {}
      },
      "source": [
        "HTML_TEMPLATE = \"\"\"\n",
        "        <script src=\"https://cdnjs.cloudflare.com/ajax/libs/webcomponentsjs/0.7.24/webcomponents-lite.js\"></script>\n",
        "        <link rel=\"import\" href=\"https://raw.githubusercontent.com/PAIR-code/facets/master/facets-dist/facets-jupyter.html\">\n",
        "        <facets-dive id=\"elem\" height=\"600\"></facets-dive>\n",
        "        <script>\n",
        "          var data = {jsonstr};\n",
        "          document.querySelector(\"#elem\").data = data;\n",
        "        </script>\"\"\"\n",
        "\n",
        "from IPython.core.display import display, HTML\n",
        "\n",
        "def facets_display(data):\n",
        "  jsonstr = data.to_json(orient='records')\n",
        "  html = HTML_TEMPLATE.format(jsonstr=jsonstr)\n",
        "  display(HTML(html))"
      ],
      "execution_count": 0,
      "outputs": []
    }
  ]
}